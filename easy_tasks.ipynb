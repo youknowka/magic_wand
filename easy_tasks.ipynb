{
 "cells": [
  {
   "cell_type": "code",
   "execution_count": 11,
   "metadata": {},
   "outputs": [],
   "source": [
    "#Алгоритм Евклида\n",
    "def gcd(a,b):\n",
    "    if (b == 0):\n",
    "        return a;\n",
    "    else:\n",
    "        return gcd(b, a % b);"
   ]
  },
  {
   "cell_type": "code",
   "execution_count": 7,
   "metadata": {},
   "outputs": [],
   "source": [
    "#Простое число или нет\n",
    "def prime(n):\n",
    "    f=True\n",
    "    i=2\n",
    "    while(i <= n**0.5):\n",
    "        f=f and (n%i!=0)\n",
    "        i+=1\n",
    "    return f"
   ]
  },
  {
   "cell_type": "code",
   "execution_count": 8,
   "metadata": {},
   "outputs": [],
   "source": [
    "#Произвольное основание\n",
    "def to_numeral_system(i,n):\n",
    "    modulos=[]\n",
    "    while i!=0:\n",
    "        mod=i%n\n",
    "        if(mod >= 10):\n",
    "            mod=chr(A + mod-10)\n",
    "        else:\n",
    "            mod=chr(Z + mod)\n",
    "        modulos.append(mod)\n",
    "        i=i//n\n",
    "    modulos.reverse()\n",
    "    return ''.join(modulos)"
   ]
  },
  {
   "cell_type": "code",
   "execution_count": 9,
   "metadata": {},
   "outputs": [],
   "source": [
    "#Евклид+\n",
    "def Euclid(a,b):\n",
    "    if a==0:\n",
    "        return (b,0,1)\n",
    "    else:\n",
    "        g,x,y=Euclid(b%a,a)\n",
    "        return (g,y-(b//a)*x,x)"
   ]
  }
 ],
 "metadata": {
  "kernelspec": {
   "display_name": "Python 3",
   "language": "python",
   "name": "python3"
  },
  "language_info": {
   "codemirror_mode": {
    "name": "ipython",
    "version": 3
   },
   "file_extension": ".py",
   "mimetype": "text/x-python",
   "name": "python",
   "nbconvert_exporter": "python",
   "pygments_lexer": "ipython3",
   "version": "3.7.0"
  }
 },
 "nbformat": 4,
 "nbformat_minor": 2
}
