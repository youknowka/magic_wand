{
 "cells": [
  {
   "cell_type": "code",
   "execution_count": 1,
   "metadata": {},
   "outputs": [
    {
     "data": {
      "text/plain": [
       "7"
      ]
     },
     "execution_count": 1,
     "metadata": {},
     "output_type": "execute_result"
    }
   ],
   "source": [
    "#Алгоритм Евклида\n",
    "def gcd(a,b):\n",
    "    if b == 0:\n",
    "        return a\n",
    "    else:\n",
    "        return gcd(b, a % b)\n",
    "    \n",
    "gcd(14,35)"
   ]
  },
  {
   "cell_type": "code",
   "execution_count": 4,
   "metadata": {},
   "outputs": [
    {
     "name": "stdout",
     "output_type": "stream",
     "text": [
      "2.92 µs ± 97.7 ns per loop (mean ± std. dev. of 7 runs, 100000 loops each)\n",
      "185 ns ± 29.4 ns per loop (mean ± std. dev. of 7 runs, 1000000 loops each)\n"
     ]
    }
   ],
   "source": [
    "import functools\n",
    "\n",
    "#Простое число или нет\n",
    "def prime(n):\n",
    "    if n == 1:\n",
    "        return False\n",
    "    i=2\n",
    "    while(i <= n**0.5):\n",
    "        if n%i==0:\n",
    "            return False\n",
    "        i+=1\n",
    "    return True\n",
    "\n",
    "prime_cached = functools.lru_cache()(prime)\n",
    "%timeit prime(1337)\n",
    "%timeit prime_cached(1337)"
   ]
  },
  {
   "cell_type": "code",
   "execution_count": 5,
   "metadata": {},
   "outputs": [
    {
     "name": "stdout",
     "output_type": "stream",
     "text": [
      "XYZ\n"
     ]
    }
   ],
   "source": [
    "#Произвольное основание\n",
    "def to_numeral_system(i,n):\n",
    "    if i == 0:\n",
    "        return '0'\n",
    "    modulos=[]\n",
    "    while i!=0:\n",
    "        mod=i%n\n",
    "        if(mod >= 10):\n",
    "            mod=chr(ord('A') + mod-10)\n",
    "        else:\n",
    "            mod=str(mod)\n",
    "        modulos.append(mod)\n",
    "        i=i//n\n",
    "    modulos.reverse()\n",
    "    return ''.join(modulos)\n",
    "\n",
    "print(to_numeral_system(44027, 36))"
   ]
  },
  {
   "cell_type": "code",
   "execution_count": 7,
   "metadata": {},
   "outputs": [],
   "source": [
    "#Евклид+\n",
    "def euclid(a,b):\n",
    "    if a==0:\n",
    "        return (b,0,1)\n",
    "    else:\n",
    "        g,x,y=Euclid(b%a,a)\n",
    "        return g,y-(b//a)*x,x\n",
    "    "
   ]
  },
  {
   "cell_type": "code",
   "execution_count": null,
   "metadata": {},
   "outputs": [],
   "source": []
  }
 ],
 "metadata": {
  "kernelspec": {
   "display_name": "Python 3",
   "language": "python",
   "name": "python3"
  },
  "language_info": {
   "codemirror_mode": {
    "name": "ipython",
    "version": 3
   },
   "file_extension": ".py",
   "mimetype": "text/x-python",
   "name": "python",
   "nbconvert_exporter": "python",
   "pygments_lexer": "ipython3",
   "version": "3.7.0"
  }
 },
 "nbformat": 4,
 "nbformat_minor": 2
}
